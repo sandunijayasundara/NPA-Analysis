{
 "cells": [
  {
   "cell_type": "code",
   "execution_count": 1,
   "metadata": {},
   "outputs": [],
   "source": [
    "import pandas as pd"
   ]
  },
  {
   "cell_type": "code",
   "execution_count": 2,
   "metadata": {},
   "outputs": [],
   "source": [
    "dataset = pd.read_csv(\"NPL_2017_2018.csv\")"
   ]
  },
  {
   "cell_type": "code",
   "execution_count": 4,
   "metadata": {},
   "outputs": [
    {
     "data": {
      "text/plain": [
       "<bound method DataFrame.info of         ContractId  GenderId   Age  IndustryOfOccupationId  AreaCode  \\\n",
       "0           912890         2  30.0                     NaN     157.0   \n",
       "1            38447         3  50.0                 71050.0    1958.0   \n",
       "2           454418         2  41.0                     NaN    1089.0   \n",
       "3           797390         3  56.0                 54571.0     302.0   \n",
       "4           297640         2  46.0                 76374.0    2929.0   \n",
       "...            ...       ...   ...                     ...       ...   \n",
       "680708      390412         2  24.0                 20534.0    2598.0   \n",
       "680709      669355         3  66.0                 76940.0    2207.0   \n",
       "680710      239500         3  48.0                 73009.0    1056.0   \n",
       "680711      118611         2  36.0                     NaN    1089.0   \n",
       "680712       48812         2  26.0                     NaN    1491.0   \n",
       "\n",
       "        EquipmentTypeId  FinanceTypeId  ServiceApprovedDay  \\\n",
       "0                   NaN            NaN                  28   \n",
       "1                  20.0            2.0                   8   \n",
       "2                   NaN            NaN                  21   \n",
       "3                  20.0            2.0                  17   \n",
       "4                   NaN            NaN                  22   \n",
       "...                 ...            ...                 ...   \n",
       "680708             20.0            2.0                  20   \n",
       "680709             20.0            2.0                  17   \n",
       "680710             20.0            2.0                  25   \n",
       "680711              NaN            NaN                  30   \n",
       "680712              NaN            NaN                  26   \n",
       "\n",
       "        ServiceApprovedMonth  ServiceApprovedYear  ...  FirstInstallment  \\\n",
       "0                          3                 2017  ...            5940.0   \n",
       "1                          1                 2018  ...            8121.0   \n",
       "2                          3                 2018  ...            4059.0   \n",
       "3                          8                 2017  ...           12409.0   \n",
       "4                          6                 2018  ...           12602.0   \n",
       "...                      ...                  ...  ...               ...   \n",
       "680708                     7                 2017  ...           10719.0   \n",
       "680709                     4                 2018  ...           28190.0   \n",
       "680710                     4                 2017  ...           22600.0   \n",
       "680711                     5                 2018  ...            8592.0   \n",
       "680712                     6                 2018  ...            8592.0   \n",
       "\n",
       "        CreditAmount   Income  BusinessTypeId  FdStatus  SavingsStatus  \\\n",
       "0           142560.0      NaN              21         0              1   \n",
       "1           300477.0      NaN              21         0              0   \n",
       "2            48708.0      NaN              21         0              1   \n",
       "3           446724.0      NaN              21         0              0   \n",
       "4           449140.0      NaN              21         0              1   \n",
       "...              ...      ...             ...       ...            ...   \n",
       "680708      385884.0   7280.0              21         0              1   \n",
       "680709     1859334.0  76042.0              21         0              1   \n",
       "680710     1084800.0  67400.0              21         0              0   \n",
       "680711      206208.0      NaN              21         0              0   \n",
       "680712      206208.0  80000.0              21         0              1   \n",
       "\n",
       "        OtherLendingFacilitiesStatus  IndividualCompanyCategorytId  \\\n",
       "0                                  1                             2   \n",
       "1                                  0                             2   \n",
       "2                                  1                             2   \n",
       "3                                  0                             2   \n",
       "4                                  1                             2   \n",
       "...                              ...                           ...   \n",
       "680708                             0                             2   \n",
       "680709                             0                             2   \n",
       "680710                             0                             2   \n",
       "680711                             0                             2   \n",
       "680712                             0                             2   \n",
       "\n",
       "        LeasingLoanCategorytId  NPLStatus  \n",
       "0                            2          0  \n",
       "1                            1          0  \n",
       "2                            2          0  \n",
       "3                            1          0  \n",
       "4                            2          1  \n",
       "...                        ...        ...  \n",
       "680708                       1          0  \n",
       "680709                       1          1  \n",
       "680710                       1          0  \n",
       "680711                       2          0  \n",
       "680712                       2          1  \n",
       "\n",
       "[680713 rows x 36 columns]>"
      ]
     },
     "execution_count": 4,
     "metadata": {},
     "output_type": "execute_result"
    }
   ],
   "source": [
    "dataset.info"
   ]
  },
  {
   "cell_type": "code",
   "execution_count": null,
   "metadata": {},
   "outputs": [],
   "source": []
  }
 ],
 "metadata": {
  "kernelspec": {
   "display_name": "Python 3.9.7 ('base')",
   "language": "python",
   "name": "python3"
  },
  "language_info": {
   "codemirror_mode": {
    "name": "ipython",
    "version": 3
   },
   "file_extension": ".py",
   "mimetype": "text/x-python",
   "name": "python",
   "nbconvert_exporter": "python",
   "pygments_lexer": "ipython3",
   "version": "3.9.7"
  },
  "orig_nbformat": 4,
  "vscode": {
   "interpreter": {
    "hash": "23558032b00ee6b68473e6823c75ce9d636029f112ff94112151df65d8686c23"
   }
  }
 },
 "nbformat": 4,
 "nbformat_minor": 2
}
